{
 "cells": [
  {
   "cell_type": "code",
   "execution_count": 14,
   "id": "00f41d41",
   "metadata": {},
   "outputs": [
    {
     "name": "stdout",
     "output_type": "stream",
     "text": [
      "\n",
      "        Here's a game called \"Guess the Number\" where the computer generates a random number,\n",
      "\n",
      "        and the player has to guess it within a limited number of attempts:\n",
      "\n",
      "        Are you ready?. Type Y for yes and N for no.\n",
      "        \n",
      "Choose yes or no: y\n",
      "I'm thinking of a number between 1 and 50.\n",
      "You have 3 attempts to guess it.\n",
      "You have 3 attempts to guess it.\n",
      "Take a guess dear: 78\n",
      "oh, thats too high dude!\n",
      "You have 2 attempts to guess it.\n",
      "Take a guess dear: 8\n",
      "Congratulations, you won!\n",
      "You have 1 attempts to guess it.\n",
      "Take a guess dear: 90\n",
      "oh, thats too high dude!\n",
      "Oops! You ran out of attempts dude.\n",
      "The secret number is 8\n"
     ]
    }
   ],
   "source": [
    "import random\n",
    "\n",
    "\n",
    "print('''\n",
    "        Here's a game called \"Guess the Number\" where the computer generates a random number,\\n\n",
    "        and the player has to guess it within a limited number of attempts:\\n\n",
    "        Are you ready?. Type Y for yes and N for no.\n",
    "        ''')\n",
    "user_choice = input('Choose yes or no: ').lower()\n",
    "\n",
    "if user_choice == 'y':\n",
    "    secret_number = random.randint(1, 50)\n",
    "    maximum_attempts = 3\n",
    "    no_of_attempts = 0\n",
    "    \n",
    "    print(\"I\\'m thinking of a number between 1 and 50.\")\n",
    "    print(f\"You have {maximum_attempts} attempts to guess it.\")\n",
    "    \n",
    "    while maximum_attempts != no_of_attempts:\n",
    "        print(f\"You have {maximum_attempts - no_of_attempts} attempts to guess it.\\n\")\n",
    "        user_guess = int(input(\"Take a guess dear: \"))\n",
    "        \n",
    "        \n",
    "        if user_guess == secret_number:\n",
    "            print('Congratulations, you won!')\n",
    "            #print(f'The secret number is {secret_number}')\n",
    "\n",
    "        elif user_guess > secret_number:\n",
    "            print('oh, thats too high dude!')\n",
    "            #print(f'The secret number is {secret_number}')\n",
    "                \n",
    "        elif user_guess < secret_number:\n",
    "            print('That\\'s too low dude!')\n",
    "            #print(f'The secret number is {secret_number}')\n",
    "\n",
    "        no_of_attempts += 1\n",
    "        \n",
    "    print(\"Oops! You ran out of attempts dude.\")\n",
    "    print(f'The secret number is {secret_number}')\n",
    "\n",
    "else:\n",
    "    print('Game end')"
   ]
  },
  {
   "cell_type": "code",
   "execution_count": null,
   "id": "9c99db20",
   "metadata": {},
   "outputs": [],
   "source": []
  }
 ],
 "metadata": {
  "kernelspec": {
   "display_name": "Python 3",
   "language": "python",
   "name": "python3"
  },
  "language_info": {
   "codemirror_mode": {
    "name": "ipython",
    "version": 3
   },
   "file_extension": ".py",
   "mimetype": "text/x-python",
   "name": "python",
   "nbconvert_exporter": "python",
   "pygments_lexer": "ipython3",
   "version": "3.8.8"
  }
 },
 "nbformat": 4,
 "nbformat_minor": 5
}
